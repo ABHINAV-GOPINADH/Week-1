{
 "cells": [
  {
   "cell_type": "code",
   "execution_count": 2,
   "id": "732235db",
   "metadata": {},
   "outputs": [
    {
     "data": {
      "text/html": [
       "<div>\n",
       "<style scoped>\n",
       "    .dataframe tbody tr th:only-of-type {\n",
       "        vertical-align: middle;\n",
       "    }\n",
       "\n",
       "    .dataframe tbody tr th {\n",
       "        vertical-align: top;\n",
       "    }\n",
       "\n",
       "    .dataframe thead th {\n",
       "        text-align: right;\n",
       "    }\n",
       "</style>\n",
       "<table border=\"1\" class=\"dataframe\">\n",
       "  <thead>\n",
       "    <tr style=\"text-align: right;\">\n",
       "      <th></th>\n",
       "      <th>Brands</th>\n",
       "      <th>Models</th>\n",
       "      <th>Colors</th>\n",
       "      <th>Memory</th>\n",
       "      <th>Storage</th>\n",
       "      <th>Camera</th>\n",
       "      <th>Rating</th>\n",
       "      <th>Selling Price</th>\n",
       "      <th>Original Price</th>\n",
       "      <th>Mobile</th>\n",
       "      <th>Discount</th>\n",
       "      <th>discount percentage</th>\n",
       "    </tr>\n",
       "  </thead>\n",
       "  <tbody>\n",
       "    <tr>\n",
       "      <th>0</th>\n",
       "      <td>SAMSUNG</td>\n",
       "      <td>GALAXY M31S</td>\n",
       "      <td>Mirage Black</td>\n",
       "      <td>8 GB</td>\n",
       "      <td>128 GB</td>\n",
       "      <td>Yes</td>\n",
       "      <td>4.3</td>\n",
       "      <td>19330</td>\n",
       "      <td>20999</td>\n",
       "      <td>SAMSUNG GALAXY M31S</td>\n",
       "      <td>1669</td>\n",
       "      <td>7.947998</td>\n",
       "    </tr>\n",
       "    <tr>\n",
       "      <th>1</th>\n",
       "      <td>Nokia</td>\n",
       "      <td>3.2</td>\n",
       "      <td>Steel</td>\n",
       "      <td>2 GB</td>\n",
       "      <td>16 GB</td>\n",
       "      <td>Yes</td>\n",
       "      <td>3.8</td>\n",
       "      <td>10199</td>\n",
       "      <td>10199</td>\n",
       "      <td>Nokia 3.2</td>\n",
       "      <td>0</td>\n",
       "      <td>0.000000</td>\n",
       "    </tr>\n",
       "    <tr>\n",
       "      <th>2</th>\n",
       "      <td>realme</td>\n",
       "      <td>C2</td>\n",
       "      <td>Diamond Black</td>\n",
       "      <td>2 GB</td>\n",
       "      <td>NaN</td>\n",
       "      <td>Yes</td>\n",
       "      <td>4.4</td>\n",
       "      <td>6999</td>\n",
       "      <td>7999</td>\n",
       "      <td>realme C2</td>\n",
       "      <td>1000</td>\n",
       "      <td>12.501563</td>\n",
       "    </tr>\n",
       "    <tr>\n",
       "      <th>3</th>\n",
       "      <td>Infinix</td>\n",
       "      <td>Note 5</td>\n",
       "      <td>Ice Blue</td>\n",
       "      <td>4 GB</td>\n",
       "      <td>64 GB</td>\n",
       "      <td>Yes</td>\n",
       "      <td>4.2</td>\n",
       "      <td>12999</td>\n",
       "      <td>12999</td>\n",
       "      <td>Infinix Note 5</td>\n",
       "      <td>0</td>\n",
       "      <td>0.000000</td>\n",
       "    </tr>\n",
       "    <tr>\n",
       "      <th>4</th>\n",
       "      <td>Apple</td>\n",
       "      <td>iPhone 11</td>\n",
       "      <td>Black</td>\n",
       "      <td>4GB</td>\n",
       "      <td>64 GB</td>\n",
       "      <td>Yes</td>\n",
       "      <td>4.6</td>\n",
       "      <td>49900</td>\n",
       "      <td>49900</td>\n",
       "      <td>Apple iPhone 11</td>\n",
       "      <td>0</td>\n",
       "      <td>0.000000</td>\n",
       "    </tr>\n",
       "  </tbody>\n",
       "</table>\n",
       "</div>"
      ],
      "text/plain": [
       "    Brands        Models         Colors Memory Storage Camera  Rating  \\\n",
       "0  SAMSUNG  GALAXY M31S    Mirage Black   8 GB  128 GB    Yes     4.3   \n",
       "1    Nokia           3.2          Steel   2 GB   16 GB    Yes     3.8   \n",
       "2   realme           C2   Diamond Black   2 GB     NaN    Yes     4.4   \n",
       "3  Infinix        Note 5       Ice Blue   4 GB   64 GB    Yes     4.2   \n",
       "4    Apple    iPhone 11           Black    4GB   64 GB    Yes     4.6   \n",
       "\n",
       "   Selling Price  Original Price                Mobile  Discount  \\\n",
       "0          19330           20999  SAMSUNG GALAXY M31S       1669   \n",
       "1          10199           10199             Nokia 3.2         0   \n",
       "2           6999            7999            realme C2       1000   \n",
       "3          12999           12999        Infinix Note 5         0   \n",
       "4          49900           49900      Apple iPhone 11          0   \n",
       "\n",
       "   discount percentage  \n",
       "0             7.947998  \n",
       "1             0.000000  \n",
       "2            12.501563  \n",
       "3             0.000000  \n",
       "4             0.000000  "
      ]
     },
     "execution_count": 2,
     "metadata": {},
     "output_type": "execute_result"
    }
   ],
   "source": [
    "import pandas as pd\n",
    "df=pd.read_csv(\"Sales.csv\")\n",
    "df.head()"
   ]
  },
  {
   "cell_type": "code",
   "execution_count": 3,
   "id": "867ea5f1",
   "metadata": {},
   "outputs": [
    {
     "name": "stdout",
     "output_type": "stream",
     "text": [
      "Dataset Shape : (3114, 12)\n"
     ]
    }
   ],
   "source": [
    "print(\"Dataset Shape :\",df.shape)"
   ]
  },
  {
   "cell_type": "code",
   "execution_count": 4,
   "id": "12920830",
   "metadata": {},
   "outputs": [
    {
     "name": "stdout",
     "output_type": "stream",
     "text": [
      "Columns: \n",
      " ['Brands', 'Models', 'Colors', 'Memory', 'Storage', 'Camera', 'Rating', 'Selling Price', 'Original Price', 'Mobile', 'Discount', 'discount percentage']\n"
     ]
    }
   ],
   "source": [
    "print(\"Columns: \\n\",df.columns.tolist())"
   ]
  },
  {
   "cell_type": "code",
   "execution_count": 5,
   "id": "c01c6184",
   "metadata": {},
   "outputs": [
    {
     "name": "stdout",
     "output_type": "stream",
     "text": [
      "\n",
      "Info:\n",
      "<class 'pandas.core.frame.DataFrame'>\n",
      "RangeIndex: 3114 entries, 0 to 3113\n",
      "Data columns (total 12 columns):\n",
      " #   Column               Non-Null Count  Dtype  \n",
      "---  ------               --------------  -----  \n",
      " 0   Brands               3114 non-null   object \n",
      " 1   Models               3114 non-null   object \n",
      " 2   Colors               3114 non-null   object \n",
      " 3   Memory               3071 non-null   object \n",
      " 4   Storage              3075 non-null   object \n",
      " 5   Camera               3114 non-null   object \n",
      " 6   Rating               2970 non-null   float64\n",
      " 7   Selling Price        3114 non-null   int64  \n",
      " 8   Original Price       3114 non-null   int64  \n",
      " 9   Mobile               3114 non-null   object \n",
      " 10  Discount             3114 non-null   int64  \n",
      " 11  discount percentage  3114 non-null   float64\n",
      "dtypes: float64(2), int64(3), object(7)\n",
      "memory usage: 292.1+ KB\n"
     ]
    }
   ],
   "source": [
    "print(\"\\nInfo:\")\n",
    "df.info()"
   ]
  },
  {
   "cell_type": "code",
   "execution_count": 6,
   "id": "40f3685d",
   "metadata": {},
   "outputs": [
    {
     "name": "stdout",
     "output_type": "stream",
     "text": [
      "Missing Values:\n",
      " Brands                   0\n",
      "Models                   0\n",
      "Colors                   0\n",
      "Memory                  43\n",
      "Storage                 39\n",
      "Camera                   0\n",
      "Rating                 144\n",
      "Selling Price            0\n",
      "Original Price           0\n",
      "Mobile                   0\n",
      "Discount                 0\n",
      "discount percentage      0\n",
      "dtype: int64\n"
     ]
    }
   ],
   "source": [
    "# Check for missing values\n",
    "print(\"Missing Values:\\n\", df.isnull().sum())\n"
   ]
  },
  {
   "cell_type": "code",
   "execution_count": 7,
   "id": "a755c469",
   "metadata": {},
   "outputs": [
    {
     "name": "stderr",
     "output_type": "stream",
     "text": [
      "C:\\Users\\Abhinav\\AppData\\Local\\Temp\\ipykernel_640\\4158018307.py:3: FutureWarning: A value is trying to be set on a copy of a DataFrame or Series through chained assignment using an inplace method.\n",
      "The behavior will change in pandas 3.0. This inplace method will never work because the intermediate object on which we are setting values always behaves as a copy.\n",
      "\n",
      "For example, when doing 'df[col].method(value, inplace=True)', try using 'df.method({col: value}, inplace=True)' or df[col] = df[col].method(value) instead, to perform the operation inplace on the original object.\n",
      "\n",
      "\n",
      "  df['Memory'].fillna(df['Memory'].mode()[0],inplace=True)\n"
     ]
    }
   ],
   "source": [
    "#RAM options are categorical (e.g., \"4 GB\", \"6 GB\"), and products often follow popular configurations. \n",
    "# Imputing with the mode avoids introducing bias or invalid values.\n",
    "df['Memory'].fillna(df['Memory'].mode()[0],inplace=True)"
   ]
  },
  {
   "cell_type": "code",
   "execution_count": 8,
   "id": "4227de81",
   "metadata": {},
   "outputs": [
    {
     "name": "stderr",
     "output_type": "stream",
     "text": [
      "C:\\Users\\Abhinav\\AppData\\Local\\Temp\\ipykernel_640\\3589390388.py:2: FutureWarning: A value is trying to be set on a copy of a DataFrame or Series through chained assignment using an inplace method.\n",
      "The behavior will change in pandas 3.0. This inplace method will never work because the intermediate object on which we are setting values always behaves as a copy.\n",
      "\n",
      "For example, when doing 'df[col].method(value, inplace=True)', try using 'df.method({col: value}, inplace=True)' or df[col] = df[col].method(value) instead, to perform the operation inplace on the original object.\n",
      "\n",
      "\n",
      "  df['Storage'].fillna(df['Storage'].mode()[0],inplace=True)\n"
     ]
    }
   ],
   "source": [
    "#Similar to RAM, this is categorical. Using the most common internal storage size maintains dataset integrity.\n",
    "df['Storage'].fillna(df['Storage'].mode()[0],inplace=True)"
   ]
  },
  {
   "cell_type": "code",
   "execution_count": 9,
   "id": "73cbb854",
   "metadata": {},
   "outputs": [
    {
     "name": "stdout",
     "output_type": "stream",
     "text": [
      "-1.2961994956067846\n"
     ]
    }
   ],
   "source": [
    "#Rating (144 missing) \n",
    "#Best Strategy: Fill with mean or median\n",
    "#Mean is fine if distribution is normal (symmetric).\n",
    "#Median is safer if distribution is skewed (many high or low ratings).\n",
    "print(df['Rating'].skew())\n",
    "#Skewness describes the asymmetry of a distribution (how the data is spread)."
   ]
  },
  {
   "cell_type": "code",
   "execution_count": 10,
   "id": "85857886",
   "metadata": {},
   "outputs": [
    {
     "name": "stderr",
     "output_type": "stream",
     "text": [
      "C:\\Users\\Abhinav\\AppData\\Local\\Temp\\ipykernel_640\\2995000534.py:3: FutureWarning: A value is trying to be set on a copy of a DataFrame or Series through chained assignment using an inplace method.\n",
      "The behavior will change in pandas 3.0. This inplace method will never work because the intermediate object on which we are setting values always behaves as a copy.\n",
      "\n",
      "For example, when doing 'df[col].method(value, inplace=True)', try using 'df.method({col: value}, inplace=True)' or df[col] = df[col].method(value) instead, to perform the operation inplace on the original object.\n",
      "\n",
      "\n",
      "  df['Rating'].fillna(df['Rating'].median(), inplace=True)\n"
     ]
    }
   ],
   "source": [
    "#📍 If skewness is close to 0 → use mean\n",
    "#📍 If skewed (e.g., > ±1) → use median\n",
    "df['Rating'].fillna(df['Rating'].median(), inplace=True)\n"
   ]
  },
  {
   "cell_type": "code",
   "execution_count": 11,
   "id": "2a1a92a2",
   "metadata": {},
   "outputs": [
    {
     "name": "stdout",
     "output_type": "stream",
     "text": [
      "Missing values Brands                 0\n",
      "Models                 0\n",
      "Colors                 0\n",
      "Memory                 0\n",
      "Storage                0\n",
      "Camera                 0\n",
      "Rating                 0\n",
      "Selling Price          0\n",
      "Original Price         0\n",
      "Mobile                 0\n",
      "Discount               0\n",
      "discount percentage    0\n",
      "dtype: int64\n"
     ]
    }
   ],
   "source": [
    "print(\"Missing values\",df.isnull().sum())"
   ]
  },
  {
   "cell_type": "code",
   "execution_count": 12,
   "id": "cb3920de",
   "metadata": {},
   "outputs": [
    {
     "name": "stdout",
     "output_type": "stream",
     "text": [
      "\n",
      " Summary statistics:\n",
      "             Rating  Selling Price  Original Price      Discount  \\\n",
      "count  3114.000000    3114.000000     3114.000000   3114.000000   \n",
      "mean      4.245729   26436.625562    28333.473025   1896.847463   \n",
      "std       0.265894   30066.892622    31525.599889   5337.126176   \n",
      "min       2.300000    1000.000000     1000.000000  -8000.000000   \n",
      "25%       4.100000    9990.000000    10030.250000      0.000000   \n",
      "50%       4.300000   15000.000000    16889.500000      0.000000   \n",
      "75%       4.400000   28999.000000    31500.000000   2000.000000   \n",
      "max       5.000000  179900.000000   189999.000000  75000.000000   \n",
      "\n",
      "       discount percentage  \n",
      "count          3114.000000  \n",
      "mean              6.086788  \n",
      "std              11.106776  \n",
      "min            -160.320641  \n",
      "25%               0.000000  \n",
      "50%               0.000000  \n",
      "75%               9.836388  \n",
      "max              70.610305  \n"
     ]
    }
   ],
   "source": [
    "print(\"\\n Summary statistics:\\n\",df.describe())"
   ]
  },
  {
   "cell_type": "code",
   "execution_count": 22,
   "id": "d6b82298",
   "metadata": {},
   "outputs": [],
   "source": [
    "def remove_outliers_iqr(df, column):\n",
    "    Q1 = df[column].quantile(0.25)\n",
    "    Q3 = df[column].quantile(0.75)\n",
    "    IQR = Q3 - Q1\n",
    "    lower_bound = Q1 - 1.5 * IQR\n",
    "    upper_bound = Q3 + 1.5 * IQR\n",
    "    return df[(df[column] >= lower_bound) & (df[column] <= upper_bound)]\n"
   ]
  },
  {
   "cell_type": "code",
   "execution_count": 25,
   "id": "48be5af0",
   "metadata": {},
   "outputs": [
    {
     "name": "stdout",
     "output_type": "stream",
     "text": [
      "Original dataset shape: (2023, 12)\n"
     ]
    }
   ],
   "source": [
    "\n",
    "\n",
    "# Remove outliers from specified columns\n",
    "for col in ['Selling Price', 'Original Price', 'Discount', 'discount percentage']:\n",
    "    df = remove_outliers_iqr(clean_df, col)\n",
    "\n",
    "print(\"Original dataset shape:\", df.shape)\n"
   ]
  },
  {
   "cell_type": "code",
   "execution_count": 26,
   "id": "cacd1094",
   "metadata": {},
   "outputs": [
    {
     "name": "stdout",
     "output_type": "stream",
     "text": [
      "\n",
      " Summary statistics:\n",
      "             Rating  Selling Price  Original Price     Discount  \\\n",
      "count  2023.000000    2023.000000     2023.000000  2023.000000   \n",
      "mean      4.178695   14891.283243    15221.484923   330.201681   \n",
      "std       0.259776    8937.712633     9216.914980   754.087400   \n",
      "min       2.300000    1000.000000     1000.000000     0.000000   \n",
      "25%       4.000000    8499.000000     8537.000000     0.000000   \n",
      "50%       4.300000   12999.000000    12999.000000     0.000000   \n",
      "75%       4.300000   19414.500000    19990.000000     0.000000   \n",
      "max       5.000000   42021.000000    42021.000000  4050.000000   \n",
      "\n",
      "       discount percentage  \n",
      "count          2023.000000  \n",
      "mean              1.705163  \n",
      "std               3.513801  \n",
      "min               0.000000  \n",
      "25%               0.000000  \n",
      "50%               0.000000  \n",
      "75%               0.000000  \n",
      "max              12.823600  \n"
     ]
    }
   ],
   "source": [
    "print(\"\\n Summary statistics:\\n\",df.describe())"
   ]
  },
  {
   "cell_type": "code",
   "execution_count": 27,
   "id": "cff0c8fb",
   "metadata": {},
   "outputs": [
    {
     "data": {
      "text/plain": [
       "np.int64(49)"
      ]
     },
     "execution_count": 27,
     "metadata": {},
     "output_type": "execute_result"
    }
   ],
   "source": [
    "#Check for duplicates\n",
    "df.duplicated().sum()"
   ]
  },
  {
   "cell_type": "code",
   "execution_count": 28,
   "id": "b61cab39",
   "metadata": {},
   "outputs": [
    {
     "data": {
      "text/plain": [
       "Brands\n",
       "SAMSUNG         520\n",
       "realme          246\n",
       "Nokia           183\n",
       "OPPO            169\n",
       "Xiaomi          168\n",
       "Lenovo          112\n",
       "GIONEE          110\n",
       "ASUS             97\n",
       "Infinix          96\n",
       "vivo             80\n",
       "LG               72\n",
       "Motorola         58\n",
       "HTC              41\n",
       "Apple            33\n",
       "POCO             27\n",
       "Google Pixel      7\n",
       "IQOO              4\n",
       "Name: count, dtype: int64"
      ]
     },
     "execution_count": 28,
     "metadata": {},
     "output_type": "execute_result"
    }
   ],
   "source": [
    "#Top brands by number of models\n",
    "df['Brands'].value_counts()"
   ]
  },
  {
   "cell_type": "code",
   "execution_count": 29,
   "id": "18dcdbd0",
   "metadata": {},
   "outputs": [
    {
     "data": {
      "text/html": [
       "<div>\n",
       "<style scoped>\n",
       "    .dataframe tbody tr th:only-of-type {\n",
       "        vertical-align: middle;\n",
       "    }\n",
       "\n",
       "    .dataframe tbody tr th {\n",
       "        vertical-align: top;\n",
       "    }\n",
       "\n",
       "    .dataframe thead th {\n",
       "        text-align: right;\n",
       "    }\n",
       "</style>\n",
       "<table border=\"1\" class=\"dataframe\">\n",
       "  <thead>\n",
       "    <tr style=\"text-align: right;\">\n",
       "      <th></th>\n",
       "      <th>Rating</th>\n",
       "      <th>Selling Price</th>\n",
       "    </tr>\n",
       "    <tr>\n",
       "      <th>Brands</th>\n",
       "      <th></th>\n",
       "      <th></th>\n",
       "    </tr>\n",
       "  </thead>\n",
       "  <tbody>\n",
       "    <tr>\n",
       "      <th>ASUS</th>\n",
       "      <td>4.037113</td>\n",
       "      <td>13114.402062</td>\n",
       "    </tr>\n",
       "    <tr>\n",
       "      <th>Apple</th>\n",
       "      <td>4.478788</td>\n",
       "      <td>36237.333333</td>\n",
       "    </tr>\n",
       "    <tr>\n",
       "      <th>GIONEE</th>\n",
       "      <td>3.862727</td>\n",
       "      <td>7389.027273</td>\n",
       "    </tr>\n",
       "    <tr>\n",
       "      <th>Google Pixel</th>\n",
       "      <td>4.414286</td>\n",
       "      <td>31338.142857</td>\n",
       "    </tr>\n",
       "    <tr>\n",
       "      <th>HTC</th>\n",
       "      <td>3.839024</td>\n",
       "      <td>18548.560976</td>\n",
       "    </tr>\n",
       "    <tr>\n",
       "      <th>IQOO</th>\n",
       "      <td>4.400000</td>\n",
       "      <td>36490.000000</td>\n",
       "    </tr>\n",
       "    <tr>\n",
       "      <th>Infinix</th>\n",
       "      <td>4.263542</td>\n",
       "      <td>11042.437500</td>\n",
       "    </tr>\n",
       "    <tr>\n",
       "      <th>LG</th>\n",
       "      <td>3.954167</td>\n",
       "      <td>16642.722222</td>\n",
       "    </tr>\n",
       "    <tr>\n",
       "      <th>Lenovo</th>\n",
       "      <td>3.986607</td>\n",
       "      <td>10317.383929</td>\n",
       "    </tr>\n",
       "    <tr>\n",
       "      <th>Motorola</th>\n",
       "      <td>4.136207</td>\n",
       "      <td>14553.275862</td>\n",
       "    </tr>\n",
       "    <tr>\n",
       "      <th>Nokia</th>\n",
       "      <td>4.036066</td>\n",
       "      <td>8806.672131</td>\n",
       "    </tr>\n",
       "    <tr>\n",
       "      <th>OPPO</th>\n",
       "      <td>4.277515</td>\n",
       "      <td>18711.786982</td>\n",
       "    </tr>\n",
       "    <tr>\n",
       "      <th>POCO</th>\n",
       "      <td>4.392593</td>\n",
       "      <td>20017.518519</td>\n",
       "    </tr>\n",
       "    <tr>\n",
       "      <th>SAMSUNG</th>\n",
       "      <td>4.173077</td>\n",
       "      <td>14737.528846</td>\n",
       "    </tr>\n",
       "    <tr>\n",
       "      <th>Xiaomi</th>\n",
       "      <td>4.307143</td>\n",
       "      <td>15788.386905</td>\n",
       "    </tr>\n",
       "    <tr>\n",
       "      <th>realme</th>\n",
       "      <td>4.380488</td>\n",
       "      <td>17269.280488</td>\n",
       "    </tr>\n",
       "    <tr>\n",
       "      <th>vivo</th>\n",
       "      <td>4.395000</td>\n",
       "      <td>19774.325000</td>\n",
       "    </tr>\n",
       "  </tbody>\n",
       "</table>\n",
       "</div>"
      ],
      "text/plain": [
       "                Rating  Selling Price\n",
       "Brands                               \n",
       "ASUS          4.037113   13114.402062\n",
       "Apple         4.478788   36237.333333\n",
       "GIONEE        3.862727    7389.027273\n",
       "Google Pixel  4.414286   31338.142857\n",
       "HTC           3.839024   18548.560976\n",
       "IQOO          4.400000   36490.000000\n",
       "Infinix       4.263542   11042.437500\n",
       "LG            3.954167   16642.722222\n",
       "Lenovo        3.986607   10317.383929\n",
       "Motorola      4.136207   14553.275862\n",
       "Nokia         4.036066    8806.672131\n",
       "OPPO          4.277515   18711.786982\n",
       "POCO          4.392593   20017.518519\n",
       "SAMSUNG       4.173077   14737.528846\n",
       "Xiaomi        4.307143   15788.386905\n",
       "realme        4.380488   17269.280488\n",
       "vivo          4.395000   19774.325000"
      ]
     },
     "execution_count": 29,
     "metadata": {},
     "output_type": "execute_result"
    }
   ],
   "source": [
    "#Average rating and price per brand\n",
    "df.groupby('Brands')[['Rating', 'Selling Price']].mean()\n"
   ]
  },
  {
   "cell_type": "code",
   "execution_count": 30,
   "id": "14e5ef09",
   "metadata": {},
   "outputs": [
    {
     "data": {
      "text/html": [
       "<div>\n",
       "<style scoped>\n",
       "    .dataframe tbody tr th:only-of-type {\n",
       "        vertical-align: middle;\n",
       "    }\n",
       "\n",
       "    .dataframe tbody tr th {\n",
       "        vertical-align: top;\n",
       "    }\n",
       "\n",
       "    .dataframe thead th {\n",
       "        text-align: right;\n",
       "    }\n",
       "</style>\n",
       "<table border=\"1\" class=\"dataframe\">\n",
       "  <thead>\n",
       "    <tr style=\"text-align: right;\">\n",
       "      <th></th>\n",
       "      <th>Brands</th>\n",
       "      <th>Models</th>\n",
       "      <th>Colors</th>\n",
       "      <th>Memory</th>\n",
       "      <th>Storage</th>\n",
       "      <th>Camera</th>\n",
       "      <th>Rating</th>\n",
       "      <th>Selling Price</th>\n",
       "      <th>Original Price</th>\n",
       "      <th>Mobile</th>\n",
       "      <th>Discount</th>\n",
       "      <th>discount percentage</th>\n",
       "    </tr>\n",
       "  </thead>\n",
       "  <tbody>\n",
       "    <tr>\n",
       "      <th>1625</th>\n",
       "      <td>SAMSUNG</td>\n",
       "      <td>Guru FM Plus SM-B110E/D</td>\n",
       "      <td>Black</td>\n",
       "      <td>4 GB</td>\n",
       "      <td>2 MB</td>\n",
       "      <td>Yes</td>\n",
       "      <td>4.3</td>\n",
       "      <td>1448</td>\n",
       "      <td>1661</td>\n",
       "      <td>SAMSUNG Guru FM Plus SM-B110E/D</td>\n",
       "      <td>213</td>\n",
       "      <td>12.823600</td>\n",
       "    </tr>\n",
       "    <tr>\n",
       "      <th>2960</th>\n",
       "      <td>SAMSUNG</td>\n",
       "      <td>Galaxy A22</td>\n",
       "      <td>Mint</td>\n",
       "      <td>6 GB</td>\n",
       "      <td>128 GB</td>\n",
       "      <td>Yes</td>\n",
       "      <td>4.3</td>\n",
       "      <td>16999</td>\n",
       "      <td>19499</td>\n",
       "      <td>SAMSUNG Galaxy A22</td>\n",
       "      <td>2500</td>\n",
       "      <td>12.821170</td>\n",
       "    </tr>\n",
       "    <tr>\n",
       "      <th>2942</th>\n",
       "      <td>Nokia</td>\n",
       "      <td>Asha 311</td>\n",
       "      <td>Dark Grey</td>\n",
       "      <td>512 MB</td>\n",
       "      <td>140 MB</td>\n",
       "      <td>Yes</td>\n",
       "      <td>4.0</td>\n",
       "      <td>5999</td>\n",
       "      <td>6879</td>\n",
       "      <td>Nokia Asha 311</td>\n",
       "      <td>880</td>\n",
       "      <td>12.792557</td>\n",
       "    </tr>\n",
       "    <tr>\n",
       "      <th>1022</th>\n",
       "      <td>SAMSUNG</td>\n",
       "      <td>M52 5G</td>\n",
       "      <td>Blazing Black</td>\n",
       "      <td>8 GB</td>\n",
       "      <td>128 GB</td>\n",
       "      <td>Yes</td>\n",
       "      <td>4.3</td>\n",
       "      <td>27839</td>\n",
       "      <td>31889</td>\n",
       "      <td>SAMSUNG M52 5G</td>\n",
       "      <td>4050</td>\n",
       "      <td>12.700304</td>\n",
       "    </tr>\n",
       "    <tr>\n",
       "      <th>2567</th>\n",
       "      <td>Xiaomi</td>\n",
       "      <td>Mi 11X</td>\n",
       "      <td>LUNAR WHITE</td>\n",
       "      <td>8 GB</td>\n",
       "      <td>128 GB</td>\n",
       "      <td>Yes</td>\n",
       "      <td>4.2</td>\n",
       "      <td>27950</td>\n",
       "      <td>31983</td>\n",
       "      <td>Xiaomi Mi 11X</td>\n",
       "      <td>4033</td>\n",
       "      <td>12.609824</td>\n",
       "    </tr>\n",
       "    <tr>\n",
       "      <th>73</th>\n",
       "      <td>Xiaomi</td>\n",
       "      <td>MI 11X 5G</td>\n",
       "      <td>COSMIC BLACK</td>\n",
       "      <td>6 GB</td>\n",
       "      <td>128 GB</td>\n",
       "      <td>Yes</td>\n",
       "      <td>4.1</td>\n",
       "      <td>24492</td>\n",
       "      <td>27995</td>\n",
       "      <td>Xiaomi MI 11X 5G</td>\n",
       "      <td>3503</td>\n",
       "      <td>12.512949</td>\n",
       "    </tr>\n",
       "    <tr>\n",
       "      <th>2613</th>\n",
       "      <td>OPPO</td>\n",
       "      <td>A12</td>\n",
       "      <td>Flowing Silver</td>\n",
       "      <td>4 GB</td>\n",
       "      <td>64 GB</td>\n",
       "      <td>Yes</td>\n",
       "      <td>4.4</td>\n",
       "      <td>10490</td>\n",
       "      <td>11990</td>\n",
       "      <td>OPPO A12</td>\n",
       "      <td>1500</td>\n",
       "      <td>12.510425</td>\n",
       "    </tr>\n",
       "    <tr>\n",
       "      <th>174</th>\n",
       "      <td>OPPO</td>\n",
       "      <td>A12</td>\n",
       "      <td>Blue</td>\n",
       "      <td>4 GB</td>\n",
       "      <td>64 GB</td>\n",
       "      <td>Yes</td>\n",
       "      <td>4.4</td>\n",
       "      <td>10490</td>\n",
       "      <td>11990</td>\n",
       "      <td>OPPO A12</td>\n",
       "      <td>1500</td>\n",
       "      <td>12.510425</td>\n",
       "    </tr>\n",
       "    <tr>\n",
       "      <th>1991</th>\n",
       "      <td>OPPO</td>\n",
       "      <td>A12</td>\n",
       "      <td>Deep Blue</td>\n",
       "      <td>4 GB</td>\n",
       "      <td>64 GB</td>\n",
       "      <td>Yes</td>\n",
       "      <td>4.4</td>\n",
       "      <td>10490</td>\n",
       "      <td>11990</td>\n",
       "      <td>OPPO A12</td>\n",
       "      <td>1500</td>\n",
       "      <td>12.510425</td>\n",
       "    </tr>\n",
       "    <tr>\n",
       "      <th>1912</th>\n",
       "      <td>OPPO</td>\n",
       "      <td>A16</td>\n",
       "      <td>CRYSTAL BLACK</td>\n",
       "      <td>4 GB</td>\n",
       "      <td>64 GB</td>\n",
       "      <td>Yes</td>\n",
       "      <td>4.3</td>\n",
       "      <td>13990</td>\n",
       "      <td>15990</td>\n",
       "      <td>OPPO A16</td>\n",
       "      <td>2000</td>\n",
       "      <td>12.507817</td>\n",
       "    </tr>\n",
       "  </tbody>\n",
       "</table>\n",
       "</div>"
      ],
      "text/plain": [
       "       Brands                   Models          Colors  Memory Storage Camera  \\\n",
       "1625  SAMSUNG  Guru FM Plus SM-B110E/D           Black    4 GB    2 MB    Yes   \n",
       "2960  SAMSUNG              Galaxy A22             Mint    6 GB  128 GB    Yes   \n",
       "2942    Nokia                Asha 311        Dark Grey  512 MB  140 MB    Yes   \n",
       "1022  SAMSUNG                   M52 5G   Blazing Black    8 GB  128 GB    Yes   \n",
       "2567   Xiaomi                  Mi 11X      LUNAR WHITE    8 GB  128 GB    Yes   \n",
       "73     Xiaomi               MI 11X 5G     COSMIC BLACK    6 GB  128 GB    Yes   \n",
       "2613     OPPO                      A12  Flowing Silver    4 GB   64 GB    Yes   \n",
       "174      OPPO                      A12            Blue    4 GB   64 GB    Yes   \n",
       "1991     OPPO                      A12       Deep Blue    4 GB   64 GB    Yes   \n",
       "1912     OPPO                      A16   CRYSTAL BLACK    4 GB   64 GB    Yes   \n",
       "\n",
       "      Rating  Selling Price  Original Price                           Mobile  \\\n",
       "1625     4.3           1448            1661  SAMSUNG Guru FM Plus SM-B110E/D   \n",
       "2960     4.3          16999           19499              SAMSUNG Galaxy A22    \n",
       "2942     4.0           5999            6879                  Nokia Asha 311    \n",
       "1022     4.3          27839           31889                   SAMSUNG M52 5G   \n",
       "2567     4.2          27950           31983                   Xiaomi Mi 11X    \n",
       "73       4.1          24492           27995                Xiaomi MI 11X 5G    \n",
       "2613     4.4          10490           11990                         OPPO A12   \n",
       "174      4.4          10490           11990                         OPPO A12   \n",
       "1991     4.4          10490           11990                         OPPO A12   \n",
       "1912     4.3          13990           15990                         OPPO A16   \n",
       "\n",
       "      Discount  discount percentage  \n",
       "1625       213            12.823600  \n",
       "2960      2500            12.821170  \n",
       "2942       880            12.792557  \n",
       "1022      4050            12.700304  \n",
       "2567      4033            12.609824  \n",
       "73        3503            12.512949  \n",
       "2613      1500            12.510425  \n",
       "174       1500            12.510425  \n",
       "1991      1500            12.510425  \n",
       "1912      2000            12.507817  "
      ]
     },
     "execution_count": 30,
     "metadata": {},
     "output_type": "execute_result"
    }
   ],
   "source": [
    "#Most discounted phones\n",
    "df.sort_values(by=['discount percentage'],ascending=False).head(10)"
   ]
  },
  {
   "cell_type": "code",
   "execution_count": 31,
   "id": "15472270",
   "metadata": {},
   "outputs": [
    {
     "data": {
      "text/plain": [
       "Brands\n",
       "realme     252980\n",
       "SAMSUNG    179001\n",
       "OPPO        73761\n",
       "Xiaomi      62989\n",
       "POCO        29500\n",
       "Name: Discount, dtype: int64"
      ]
     },
     "execution_count": 31,
     "metadata": {},
     "output_type": "execute_result"
    }
   ],
   "source": [
    "brand_profit=df.groupby('Brands')['Discount'].sum().sort_values(ascending=False)\n",
    "brand_profit.head()"
   ]
  },
  {
   "cell_type": "code",
   "execution_count": 32,
   "id": "51963adc",
   "metadata": {},
   "outputs": [
    {
     "name": "stdout",
     "output_type": "stream",
     "text": [
      "Mean Selling Price: 14891.283242708849\n",
      "Median Selling Price: 12999.0\n",
      "Standard Deviation of Selling Prices: 8935.503335845417\n",
      "Maximum Selling Price: 42021\n",
      "Minimum Selling Price: 1000\n",
      "Range of Selling Prices: 41021\n"
     ]
    }
   ],
   "source": [
    "import numpy as np\n",
    "\n",
    "# Convert to NumPy array\n",
    "selling_prices = df['Selling Price'].to_numpy()\n",
    "\n",
    "# Mean\n",
    "mean_price = np.mean(selling_prices)\n",
    "print(\"Mean Selling Price:\", mean_price)\n",
    "\n",
    "# Median\n",
    "median_price = np.median(selling_prices)\n",
    "print(\"Median Selling Price:\", median_price)\n",
    "\n",
    "# Standard Deviation\n",
    "std_dev_price = np.std(selling_prices)\n",
    "print(\"Standard Deviation of Selling Prices:\", std_dev_price)\n",
    "\n",
    "max_price = np.max(selling_prices)\n",
    "min_price = np.min(selling_prices)\n",
    "range_price = np.ptp(selling_prices)\n",
    "\n",
    "print(\"Maximum Selling Price:\", max_price)\n",
    "print(\"Minimum Selling Price:\", min_price)\n",
    "print(\"Range of Selling Prices:\", range_price)"
   ]
  },
  {
   "cell_type": "code",
   "execution_count": 33,
   "id": "d6e172e3",
   "metadata": {},
   "outputs": [
    {
     "data": {
      "image/png": "[encoded data removed]",
      "text/plain": [
       "<Figure size 1000x600 with 1 Axes>"
      ]
     },
     "metadata": {},
     "output_type": "display_data"
    }
   ],
   "source": [
    "import matplotlib.pyplot as plt\n",
    "\n",
    "# Group by 'Brands' and sum the 'Discount' for each brand, then sort in descending order\n",
    "brand_discount = df.groupby('Brands')['Discount'].sum().sort_values(ascending=False)\n",
    "\n",
    "# Plotting\n",
    "plt.figure(figsize=(10, 6))                      \n",
    "plt.bar(brand_discount.index, brand_discount.values, color='orange')  \n",
    "plt.title('Total Discount by Brand')              \n",
    "plt.xlabel('Brands')                             \n",
    "plt.ylabel('Total Discount (in INR)')            \n",
    "plt.grid(axis='y', linestyle='--', alpha=0.7)\n",
    "plt.tight_layout()                                \n",
    "\n",
    "# Show the chart\n",
    "plt.show()"
   ]
  },
  {
   "cell_type": "code",
   "execution_count": 34,
   "id": "7681fda4",
   "metadata": {},
   "outputs": [
    {
     "data": {
      "image/png": "[encoded data removed]",
      "text/plain": [
       "<Figure size 1000x600 with 1 Axes>"
      ]
     },
     "metadata": {},
     "output_type": "display_data"
    }
   ],
   "source": [
    "avg_discount_pct = df.groupby('Brands')['discount percentage'].mean().sort_values(ascending=False)\n",
    "\n",
    "# Plotting\n",
    "plt.figure(figsize=(10, 6))\n",
    "plt.bar(avg_discount_pct.index, avg_discount_pct.values, color='teal')\n",
    "plt.title('Average Discount Percentage by Brand')\n",
    "plt.xlabel('Brands')\n",
    "plt.ylabel('Average Discount (%)')\n",
    "plt.grid(axis='y', linestyle='--', alpha=0.7)\n",
    "plt.tight_layout()\n",
    "plt.show()"
   ]
  },
  {
   "cell_type": "code",
   "execution_count": 35,
   "id": "d77fa47c",
   "metadata": {},
   "outputs": [
    {
     "data": {
      "image/png": "[encoded data removed]",
      "text/plain": [
       "<Figure size 1000x600 with 1 Axes>"
      ]
     },
     "metadata": {},
     "output_type": "display_data"
    }
   ],
   "source": [
    "model_count = df['Brands'].value_counts()\n",
    "plt.figure(figsize=(10, 6))\n",
    "plt.bar(model_count.index, model_count.values, color='purple')  \n",
    "plt.title('Number of Models by Brand')\n",
    "plt.xlabel('Brands')\n",
    "plt.ylabel('Number of Models')\n",
    "plt.grid(axis='y', linestyle='--', alpha=0.7)\n",
    "plt.tight_layout()\n",
    "plt.show()"
   ]
  }
 ],
 "metadata": {
  "kernelspec": {
   "display_name": "Python 3",
   "language": "python",
   "name": "python3"
  },
  "language_info": {
   "codemirror_mode": {
    "name": "ipython",
    "version": 3
   },
   "file_extension": ".py",
   "mimetype": "text/x-python",
   "name": "python",
   "nbconvert_exporter": "python",
   "pygments_lexer": "ipython3",
   "version": "3.10.11"
  }
 },
 "nbformat": 4,
 "nbformat_minor": 5
}
