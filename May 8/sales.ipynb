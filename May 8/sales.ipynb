{
 "cells": [
  {
   "cell_type": "code",
   "execution_count": 2,
   "id": "732235db",
   "metadata": {},
   "outputs": [
    {
     "data": {
      "text/html": [
       "<div>\n",
       "<style scoped>\n",
       "    .dataframe tbody tr th:only-of-type {\n",
       "        vertical-align: middle;\n",
       "    }\n",
       "\n",
       "    .dataframe tbody tr th {\n",
       "        vertical-align: top;\n",
       "    }\n",
       "\n",
       "    .dataframe thead th {\n",
       "        text-align: right;\n",
       "    }\n",
       "</style>\n",
       "<table border=\"1\" class=\"dataframe\">\n",
       "  <thead>\n",
       "    <tr style=\"text-align: right;\">\n",
       "      <th></th>\n",
       "      <th>Brands</th>\n",
       "      <th>Models</th>\n",
       "      <th>Colors</th>\n",
       "      <th>Memory</th>\n",
       "      <th>Storage</th>\n",
       "      <th>Camera</th>\n",
       "      <th>Rating</th>\n",
       "      <th>Selling Price</th>\n",
       "      <th>Original Price</th>\n",
       "      <th>Mobile</th>\n",
       "      <th>Discount</th>\n",
       "      <th>discount percentage</th>\n",
       "    </tr>\n",
       "  </thead>\n",
       "  <tbody>\n",
       "    <tr>\n",
       "      <th>0</th>\n",
       "      <td>SAMSUNG</td>\n",
       "      <td>GALAXY M31S</td>\n",
       "      <td>Mirage Black</td>\n",
       "      <td>8 GB</td>\n",
       "      <td>128 GB</td>\n",
       "      <td>Yes</td>\n",
       "      <td>4.3</td>\n",
       "      <td>19330</td>\n",
       "      <td>20999</td>\n",
       "      <td>SAMSUNG GALAXY M31S</td>\n",
       "      <td>1669</td>\n",
       "      <td>7.947998</td>\n",
       "    </tr>\n",
       "    <tr>\n",
       "      <th>1</th>\n",
       "      <td>Nokia</td>\n",
       "      <td>3.2</td>\n",
       "      <td>Steel</td>\n",
       "      <td>2 GB</td>\n",
       "      <td>16 GB</td>\n",
       "      <td>Yes</td>\n",
       "      <td>3.8</td>\n",
       "      <td>10199</td>\n",
       "      <td>10199</td>\n",
       "      <td>Nokia 3.2</td>\n",
       "      <td>0</td>\n",
       "      <td>0.000000</td>\n",
       "    </tr>\n",
       "    <tr>\n",
       "      <th>2</th>\n",
       "      <td>realme</td>\n",
       "      <td>C2</td>\n",
       "      <td>Diamond Black</td>\n",
       "      <td>2 GB</td>\n",
       "      <td>NaN</td>\n",
       "      <td>Yes</td>\n",
       "      <td>4.4</td>\n",
       "      <td>6999</td>\n",
       "      <td>7999</td>\n",
       "      <td>realme C2</td>\n",
       "      <td>1000</td>\n",
       "      <td>12.501563</td>\n",
       "    </tr>\n",
       "    <tr>\n",
       "      <th>3</th>\n",
       "      <td>Infinix</td>\n",
       "      <td>Note 5</td>\n",
       "      <td>Ice Blue</td>\n",
       "      <td>4 GB</td>\n",
       "      <td>64 GB</td>\n",
       "      <td>Yes</td>\n",
       "      <td>4.2</td>\n",
       "      <td>12999</td>\n",
       "      <td>12999</td>\n",
       "      <td>Infinix Note 5</td>\n",
       "      <td>0</td>\n",
       "      <td>0.000000</td>\n",
       "    </tr>\n",
       "    <tr>\n",
       "      <th>4</th>\n",
       "      <td>Apple</td>\n",
       "      <td>iPhone 11</td>\n",
       "      <td>Black</td>\n",
       "      <td>4GB</td>\n",
       "      <td>64 GB</td>\n",
       "      <td>Yes</td>\n",
       "      <td>4.6</td>\n",
       "      <td>49900</td>\n",
       "      <td>49900</td>\n",
       "      <td>Apple iPhone 11</td>\n",
       "      <td>0</td>\n",
       "      <td>0.000000</td>\n",
       "    </tr>\n",
       "  </tbody>\n",
       "</table>\n",
       "</div>"
      ],
      "text/plain": [
       "    Brands        Models         Colors Memory Storage Camera  Rating  \\\n",
       "0  SAMSUNG  GALAXY M31S    Mirage Black   8 GB  128 GB    Yes     4.3   \n",
       "1    Nokia           3.2          Steel   2 GB   16 GB    Yes     3.8   \n",
       "2   realme           C2   Diamond Black   2 GB     NaN    Yes     4.4   \n",
       "3  Infinix        Note 5       Ice Blue   4 GB   64 GB    Yes     4.2   \n",
       "4    Apple    iPhone 11           Black    4GB   64 GB    Yes     4.6   \n",
       "\n",
       "   Selling Price  Original Price                Mobile  Discount  \\\n",
       "0          19330           20999  SAMSUNG GALAXY M31S       1669   \n",
       "1          10199           10199             Nokia 3.2         0   \n",
       "2           6999            7999            realme C2       1000   \n",
       "3          12999           12999        Infinix Note 5         0   \n",
       "4          49900           49900      Apple iPhone 11          0   \n",
       "\n",
       "   discount percentage  \n",
       "0             7.947998  \n",
       "1             0.000000  \n",
       "2            12.501563  \n",
       "3             0.000000  \n",
       "4             0.000000  "
      ]
     },
     "execution_count": 2,
     "metadata": {},
     "output_type": "execute_result"
    }
   ],
   "source": [
    "import pandas as pd\n",
    "df=pd.read_csv(\"Sales.csv\")\n",
    "df.head()"
   ]
  },
  {
   "cell_type": "code",
   "execution_count": 3,
   "id": "867ea5f1",
   "metadata": {},
   "outputs": [
    {
     "name": "stdout",
     "output_type": "stream",
     "text": [
      "Dataset Shape : (3114, 12)\n"
     ]
    }
   ],
   "source": [
    "print(\"Dataset Shape :\",df.shape)"
   ]
  },
  {
   "cell_type": "code",
   "execution_count": 4,
   "id": "12920830",
   "metadata": {},
   "outputs": [
    {
     "name": "stdout",
     "output_type": "stream",
     "text": [
      "Columns: \n",
      " ['Brands', 'Models', 'Colors', 'Memory', 'Storage', 'Camera', 'Rating', 'Selling Price', 'Original Price', 'Mobile', 'Discount', 'discount percentage']\n"
     ]
    }
   ],
   "source": [
    "print(\"Columns: \\n\",df.columns.tolist())"
   ]
  },
  {
   "cell_type": "code",
   "execution_count": 5,
   "id": "c01c6184",
   "metadata": {},
   "outputs": [
    {
     "name": "stdout",
     "output_type": "stream",
     "text": [
      "\n",
      "Info:\n",
      "<class 'pandas.core.frame.DataFrame'>\n",
      "RangeIndex: 3114 entries, 0 to 3113\n",
      "Data columns (total 12 columns):\n",
      " #   Column               Non-Null Count  Dtype  \n",
      "---  ------               --------------  -----  \n",
      " 0   Brands               3114 non-null   object \n",
      " 1   Models               3114 non-null   object \n",
      " 2   Colors               3114 non-null   object \n",
      " 3   Memory               3071 non-null   object \n",
      " 4   Storage              3075 non-null   object \n",
      " 5   Camera               3114 non-null   object \n",
      " 6   Rating               2970 non-null   float64\n",
      " 7   Selling Price        3114 non-null   int64  \n",
      " 8   Original Price       3114 non-null   int64  \n",
      " 9   Mobile               3114 non-null   object \n",
      " 10  Discount             3114 non-null   int64  \n",
      " 11  discount percentage  3114 non-null   float64\n",
      "dtypes: float64(2), int64(3), object(7)\n",
      "memory usage: 292.1+ KB\n"
     ]
    }
   ],
   "source": [
    "print(\"\\nInfo:\")\n",
    "df.info()"
   ]
  },
  {
   "cell_type": "code",
   "execution_count": 6,
   "id": "40f3685d",
   "metadata": {},
   "outputs": [
    {
     "name": "stdout",
     "output_type": "stream",
     "text": [
      "Missing Values:\n",
      " Brands                   0\n",
      "Models                   0\n",
      "Colors                   0\n",
      "Memory                  43\n",
      "Storage                 39\n",
      "Camera                   0\n",
      "Rating                 144\n",
      "Selling Price            0\n",
      "Original Price           0\n",
      "Mobile                   0\n",
      "Discount                 0\n",
      "discount percentage      0\n",
      "dtype: int64\n"
     ]
    }
   ],
   "source": [
    "# Check for missing values\n",
    "print(\"Missing Values:\\n\", df.isnull().sum())\n"
   ]
  },
  {
   "cell_type": "code",
   "execution_count": 7,
   "id": "a755c469",
   "metadata": {},
   "outputs": [
    {
     "name": "stderr",
     "output_type": "stream",
     "text": [
      "C:\\Users\\Abhinav\\AppData\\Local\\Temp\\ipykernel_640\\4158018307.py:3: FutureWarning: A value is trying to be set on a copy of a DataFrame or Series through chained assignment using an inplace method.\n",
      "The behavior will change in pandas 3.0. This inplace method will never work because the intermediate object on which we are setting values always behaves as a copy.\n",
      "\n",
      "For example, when doing 'df[col].method(value, inplace=True)', try using 'df.method({col: value}, inplace=True)' or df[col] = df[col].method(value) instead, to perform the operation inplace on the original object.\n",
      "\n",
      "\n",
      "  df['Memory'].fillna(df['Memory'].mode()[0],inplace=True)\n"
     ]
    }
   ],
   "source": [
    "#RAM options are categorical (e.g., \"4 GB\", \"6 GB\"), and products often follow popular configurations. \n",
    "# Imputing with the mode avoids introducing bias or invalid values.\n",
    "df['Memory'].fillna(df['Memory'].mode()[0],inplace=True)"
   ]
  },
  {
   "cell_type": "code",
   "execution_count": 8,
   "id": "4227de81",
   "metadata": {},
   "outputs": [
    {
     "name": "stderr",
     "output_type": "stream",
     "text": [
      "C:\\Users\\Abhinav\\AppData\\Local\\Temp\\ipykernel_640\\3589390388.py:2: FutureWarning: A value is trying to be set on a copy of a DataFrame or Series through chained assignment using an inplace method.\n",
      "The behavior will change in pandas 3.0. This inplace method will never work because the intermediate object on which we are setting values always behaves as a copy.\n",
      "\n",
      "For example, when doing 'df[col].method(value, inplace=True)', try using 'df.method({col: value}, inplace=True)' or df[col] = df[col].method(value) instead, to perform the operation inplace on the original object.\n",
      "\n",
      "\n",
      "  df['Storage'].fillna(df['Storage'].mode()[0],inplace=True)\n"
     ]
    }
   ],
   "source": [
    "#Similar to RAM, this is categorical. Using the most common internal storage size maintains dataset integrity.\n",
    "df['Storage'].fillna(df['Storage'].mode()[0],inplace=True)"
   ]
  },
  {
   "cell_type": "code",
   "execution_count": 9,
   "id": "73cbb854",
   "metadata": {},
   "outputs": [
    {
     "name": "stdout",
     "output_type": "stream",
     "text": [
      "-1.2961994956067846\n"
     ]
    }
   ],
   "source": [
    "#Rating (144 missing) \n",
    "#Best Strategy: Fill with mean or median\n",
    "#Mean is fine if distribution is normal (symmetric).\n",
    "#Median is safer if distribution is skewed (many high or low ratings).\n",
    "print(df['Rating'].skew())\n",
    "#Skewness describes the asymmetry of a distribution (how the data is spread)."
   ]
  },
  {
   "cell_type": "code",
   "execution_count": 10,
   "id": "85857886",
   "metadata": {},
   "outputs": [
    {
     "name": "stderr",
     "output_type": "stream",
     "text": [
      "C:\\Users\\Abhinav\\AppData\\Local\\Temp\\ipykernel_640\\2995000534.py:3: FutureWarning: A value is trying to be set on a copy of a DataFrame or Series through chained assignment using an inplace method.\n",
      "The behavior will change in pandas 3.0. This inplace method will never work because the intermediate object on which we are setting values always behaves as a copy.\n",
      "\n",
      "For example, when doing 'df[col].method(value, inplace=True)', try using 'df.method({col: value}, inplace=True)' or df[col] = df[col].method(value) instead, to perform the operation inplace on the original object.\n",
      "\n",
      "\n",
      "  df['Rating'].fillna(df['Rating'].median(), inplace=True)\n"
     ]
    }
   ],
   "source": [
    "#📍 If skewness is close to 0 → use mean\n",
    "#📍 If skewed (e.g., > ±1) → use median\n",
    "df['Rating'].fillna(df['Rating'].median(), inplace=True)\n"
   ]
  },
  {
   "cell_type": "code",
   "execution_count": 11,
   "id": "2a1a92a2",
   "metadata": {},
   "outputs": [
    {
     "name": "stdout",
     "output_type": "stream",
     "text": [
      "Missing values Brands                 0\n",
      "Models                 0\n",
      "Colors                 0\n",
      "Memory                 0\n",
      "Storage                0\n",
      "Camera                 0\n",
      "Rating                 0\n",
      "Selling Price          0\n",
      "Original Price         0\n",
      "Mobile                 0\n",
      "Discount               0\n",
      "discount percentage    0\n",
      "dtype: int64\n"
     ]
    }
   ],
   "source": [
    "print(\"Missing values\",df.isnull().sum())"
   ]
  },
  {
   "cell_type": "code",
   "execution_count": 12,
   "id": "cb3920de",
   "metadata": {},
   "outputs": [
    {
     "name": "stdout",
     "output_type": "stream",
     "text": [
      "\n",
      " Summary statistics:\n",
      "             Rating  Selling Price  Original Price      Discount  \\\n",
      "count  3114.000000    3114.000000     3114.000000   3114.000000   \n",
      "mean      4.245729   26436.625562    28333.473025   1896.847463   \n",
      "std       0.265894   30066.892622    31525.599889   5337.126176   \n",
      "min       2.300000    1000.000000     1000.000000  -8000.000000   \n",
      "25%       4.100000    9990.000000    10030.250000      0.000000   \n",
      "50%       4.300000   15000.000000    16889.500000      0.000000   \n",
      "75%       4.400000   28999.000000    31500.000000   2000.000000   \n",
      "max       5.000000  179900.000000   189999.000000  75000.000000   \n",
      "\n",
      "       discount percentage  \n",
      "count          3114.000000  \n",
      "mean              6.086788  \n",
      "std              11.106776  \n",
      "min            -160.320641  \n",
      "25%               0.000000  \n",
      "50%               0.000000  \n",
      "75%               9.836388  \n",
      "max              70.610305  \n"
     ]
    }
   ],
   "source": [
    "print(\"\\n Summary statistics:\\n\",df.describe())"
   ]
  },
  {
   "cell_type": "code",
   "execution_count": 13,
   "id": "cff0c8fb",
   "metadata": {},
   "outputs": [
    {
     "data": {
      "text/plain": [
       "np.int64(118)"
      ]
     },
     "execution_count": 13,
     "metadata": {},
     "output_type": "execute_result"
    }
   ],
   "source": [
    "#Check for duplicates\n",
    "df.duplicated().sum()"
   ]
  },
  {
   "cell_type": "code",
   "execution_count": 14,
   "id": "b61cab39",
   "metadata": {},
   "outputs": [
    {
     "data": {
      "text/plain": [
       "Brands\n",
       "SAMSUNG         719\n",
       "Apple           387\n",
       "realme          327\n",
       "OPPO            260\n",
       "Nokia           213\n",
       "Xiaomi          198\n",
       "Infinix         151\n",
       "GIONEE          129\n",
       "vivo            124\n",
       "Lenovo          121\n",
       "ASUS            118\n",
       "Motorola        105\n",
       "LG               99\n",
       "POCO             74\n",
       "HTC              55\n",
       "Google Pixel     29\n",
       "IQOO              5\n",
       "Name: count, dtype: int64"
      ]
     },
     "execution_count": 14,
     "metadata": {},
     "output_type": "execute_result"
    }
   ],
   "source": [
    "#Top brands by number of models\n",
    "df['Brands'].value_counts()"
   ]
  },
  {
   "cell_type": "code",
   "execution_count": 15,
   "id": "18dcdbd0",
   "metadata": {},
   "outputs": [
    {
     "data": {
      "text/html": [
       "<div>\n",
       "<style scoped>\n",
       "    .dataframe tbody tr th:only-of-type {\n",
       "        vertical-align: middle;\n",
       "    }\n",
       "\n",
       "    .dataframe tbody tr th {\n",
       "        vertical-align: top;\n",
       "    }\n",
       "\n",
       "    .dataframe thead th {\n",
       "        text-align: right;\n",
       "    }\n",
       "</style>\n",
       "<table border=\"1\" class=\"dataframe\">\n",
       "  <thead>\n",
       "    <tr style=\"text-align: right;\">\n",
       "      <th></th>\n",
       "      <th>Rating</th>\n",
       "      <th>Selling Price</th>\n",
       "    </tr>\n",
       "    <tr>\n",
       "      <th>Brands</th>\n",
       "      <th></th>\n",
       "      <th></th>\n",
       "    </tr>\n",
       "  </thead>\n",
       "  <tbody>\n",
       "    <tr>\n",
       "      <th>ASUS</th>\n",
       "      <td>4.095763</td>\n",
       "      <td>20326.915254</td>\n",
       "    </tr>\n",
       "    <tr>\n",
       "      <th>Apple</th>\n",
       "      <td>4.533075</td>\n",
       "      <td>81985.560724</td>\n",
       "    </tr>\n",
       "    <tr>\n",
       "      <th>GIONEE</th>\n",
       "      <td>3.858140</td>\n",
       "      <td>7135.093023</td>\n",
       "    </tr>\n",
       "    <tr>\n",
       "      <th>Google Pixel</th>\n",
       "      <td>4.506897</td>\n",
       "      <td>61391.862069</td>\n",
       "    </tr>\n",
       "    <tr>\n",
       "      <th>HTC</th>\n",
       "      <td>3.969091</td>\n",
       "      <td>28314.381818</td>\n",
       "    </tr>\n",
       "    <tr>\n",
       "      <th>IQOO</th>\n",
       "      <td>4.400000</td>\n",
       "      <td>37190.000000</td>\n",
       "    </tr>\n",
       "    <tr>\n",
       "      <th>Infinix</th>\n",
       "      <td>4.276821</td>\n",
       "      <td>11092.178808</td>\n",
       "    </tr>\n",
       "    <tr>\n",
       "      <th>LG</th>\n",
       "      <td>3.984848</td>\n",
       "      <td>19323.181818</td>\n",
       "    </tr>\n",
       "    <tr>\n",
       "      <th>Lenovo</th>\n",
       "      <td>3.977686</td>\n",
       "      <td>10083.842975</td>\n",
       "    </tr>\n",
       "    <tr>\n",
       "      <th>Motorola</th>\n",
       "      <td>4.145714</td>\n",
       "      <td>16357.466667</td>\n",
       "    </tr>\n",
       "    <tr>\n",
       "      <th>Nokia</th>\n",
       "      <td>4.035681</td>\n",
       "      <td>9428.657277</td>\n",
       "    </tr>\n",
       "    <tr>\n",
       "      <th>OPPO</th>\n",
       "      <td>4.298462</td>\n",
       "      <td>18560.488462</td>\n",
       "    </tr>\n",
       "    <tr>\n",
       "      <th>POCO</th>\n",
       "      <td>4.386486</td>\n",
       "      <td>16870.621622</td>\n",
       "    </tr>\n",
       "    <tr>\n",
       "      <th>SAMSUNG</th>\n",
       "      <td>4.209597</td>\n",
       "      <td>24296.248957</td>\n",
       "    </tr>\n",
       "    <tr>\n",
       "      <th>Xiaomi</th>\n",
       "      <td>4.304545</td>\n",
       "      <td>16941.909091</td>\n",
       "    </tr>\n",
       "    <tr>\n",
       "      <th>realme</th>\n",
       "      <td>4.386544</td>\n",
       "      <td>16396.535168</td>\n",
       "    </tr>\n",
       "    <tr>\n",
       "      <th>vivo</th>\n",
       "      <td>4.377419</td>\n",
       "      <td>23866.241935</td>\n",
       "    </tr>\n",
       "  </tbody>\n",
       "</table>\n",
       "</div>"
      ],
      "text/plain": [
       "                Rating  Selling Price\n",
       "Brands                               \n",
       "ASUS          4.095763   20326.915254\n",
       "Apple         4.533075   81985.560724\n",
       "GIONEE        3.858140    7135.093023\n",
       "Google Pixel  4.506897   61391.862069\n",
       "HTC           3.969091   28314.381818\n",
       "IQOO          4.400000   37190.000000\n",
       "Infinix       4.276821   11092.178808\n",
       "LG            3.984848   19323.181818\n",
       "Lenovo        3.977686   10083.842975\n",
       "Motorola      4.145714   16357.466667\n",
       "Nokia         4.035681    9428.657277\n",
       "OPPO          4.298462   18560.488462\n",
       "POCO          4.386486   16870.621622\n",
       "SAMSUNG       4.209597   24296.248957\n",
       "Xiaomi        4.304545   16941.909091\n",
       "realme        4.386544   16396.535168\n",
       "vivo          4.377419   23866.241935"
      ]
     },
     "execution_count": 15,
     "metadata": {},
     "output_type": "execute_result"
    }
   ],
   "source": [
    "#Average rating and price per brand\n",
    "df.groupby('Brands')[['Rating', 'Selling Price']].mean()\n"
   ]
  },
  {
   "cell_type": "code",
   "execution_count": 16,
   "id": "14e5ef09",
   "metadata": {},
   "outputs": [
    {
     "data": {
      "text/html": [
       "<div>\n",
       "<style scoped>\n",
       "    .dataframe tbody tr th:only-of-type {\n",
       "        vertical-align: middle;\n",
       "    }\n",
       "\n",
       "    .dataframe tbody tr th {\n",
       "        vertical-align: top;\n",
       "    }\n",
       "\n",
       "    .dataframe thead th {\n",
       "        text-align: right;\n",
       "    }\n",
       "</style>\n",
       "<table border=\"1\" class=\"dataframe\">\n",
       "  <thead>\n",
       "    <tr style=\"text-align: right;\">\n",
       "      <th></th>\n",
       "      <th>Brands</th>\n",
       "      <th>Models</th>\n",
       "      <th>Colors</th>\n",
       "      <th>Memory</th>\n",
       "      <th>Storage</th>\n",
       "      <th>Camera</th>\n",
       "      <th>Rating</th>\n",
       "      <th>Selling Price</th>\n",
       "      <th>Original Price</th>\n",
       "      <th>Mobile</th>\n",
       "      <th>Discount</th>\n",
       "      <th>discount percentage</th>\n",
       "    </tr>\n",
       "  </thead>\n",
       "  <tbody>\n",
       "    <tr>\n",
       "      <th>908</th>\n",
       "      <td>GIONEE</td>\n",
       "      <td>Pioneer P3</td>\n",
       "      <td>White</td>\n",
       "      <td>512 MB</td>\n",
       "      <td>4 GB</td>\n",
       "      <td>Yes</td>\n",
       "      <td>3.6</td>\n",
       "      <td>2350</td>\n",
       "      <td>7996</td>\n",
       "      <td>GIONEE Pioneer P3</td>\n",
       "      <td>5646</td>\n",
       "      <td>70.610305</td>\n",
       "    </tr>\n",
       "    <tr>\n",
       "      <th>826</th>\n",
       "      <td>GIONEE</td>\n",
       "      <td>Marathon M5 Plus</td>\n",
       "      <td>Polar Gold</td>\n",
       "      <td>3 GB</td>\n",
       "      <td>64 GB</td>\n",
       "      <td>Yes</td>\n",
       "      <td>4.1</td>\n",
       "      <td>8499</td>\n",
       "      <td>28099</td>\n",
       "      <td>GIONEE Marathon M5 Plus</td>\n",
       "      <td>19600</td>\n",
       "      <td>69.753372</td>\n",
       "    </tr>\n",
       "    <tr>\n",
       "      <th>306</th>\n",
       "      <td>ASUS</td>\n",
       "      <td>ROG</td>\n",
       "      <td>Black</td>\n",
       "      <td>8 GB</td>\n",
       "      <td>128 GB</td>\n",
       "      <td>Yes</td>\n",
       "      <td>4.3</td>\n",
       "      <td>26499</td>\n",
       "      <td>83999</td>\n",
       "      <td>ASUS ROG</td>\n",
       "      <td>57500</td>\n",
       "      <td>68.453196</td>\n",
       "    </tr>\n",
       "    <tr>\n",
       "      <th>720</th>\n",
       "      <td>Motorola</td>\n",
       "      <td>Z2 Force</td>\n",
       "      <td>Super Black</td>\n",
       "      <td>6 GB</td>\n",
       "      <td>64 GB</td>\n",
       "      <td>Yes</td>\n",
       "      <td>4.1</td>\n",
       "      <td>14999</td>\n",
       "      <td>44999</td>\n",
       "      <td>Motorola Z2 Force</td>\n",
       "      <td>30000</td>\n",
       "      <td>66.668148</td>\n",
       "    </tr>\n",
       "    <tr>\n",
       "      <th>2771</th>\n",
       "      <td>Nokia</td>\n",
       "      <td>8110</td>\n",
       "      <td>Black</td>\n",
       "      <td>512 MB</td>\n",
       "      <td>4 GB</td>\n",
       "      <td>Yes</td>\n",
       "      <td>3.7</td>\n",
       "      <td>3000</td>\n",
       "      <td>8400</td>\n",
       "      <td>Nokia 8110</td>\n",
       "      <td>5400</td>\n",
       "      <td>64.285714</td>\n",
       "    </tr>\n",
       "    <tr>\n",
       "      <th>507</th>\n",
       "      <td>LG</td>\n",
       "      <td>Wing</td>\n",
       "      <td>Aurora Gray</td>\n",
       "      <td>8 GB</td>\n",
       "      <td>128 GB</td>\n",
       "      <td>Yes</td>\n",
       "      <td>4.2</td>\n",
       "      <td>29999</td>\n",
       "      <td>80000</td>\n",
       "      <td>LG Wing</td>\n",
       "      <td>50001</td>\n",
       "      <td>62.501250</td>\n",
       "    </tr>\n",
       "    <tr>\n",
       "      <th>2632</th>\n",
       "      <td>LG</td>\n",
       "      <td>Wing</td>\n",
       "      <td>Illusion Sky</td>\n",
       "      <td>8 GB</td>\n",
       "      <td>128 GB</td>\n",
       "      <td>Yes</td>\n",
       "      <td>4.2</td>\n",
       "      <td>29999</td>\n",
       "      <td>80000</td>\n",
       "      <td>LG Wing</td>\n",
       "      <td>50001</td>\n",
       "      <td>62.501250</td>\n",
       "    </tr>\n",
       "    <tr>\n",
       "      <th>858</th>\n",
       "      <td>GIONEE</td>\n",
       "      <td>S6</td>\n",
       "      <td>Gold</td>\n",
       "      <td>3 GB</td>\n",
       "      <td>32 GB</td>\n",
       "      <td>Yes</td>\n",
       "      <td>3.8</td>\n",
       "      <td>7999</td>\n",
       "      <td>20924</td>\n",
       "      <td>GIONEE S6</td>\n",
       "      <td>12925</td>\n",
       "      <td>61.771172</td>\n",
       "    </tr>\n",
       "    <tr>\n",
       "      <th>1482</th>\n",
       "      <td>LG</td>\n",
       "      <td>G8X</td>\n",
       "      <td>Black</td>\n",
       "      <td>6 GB</td>\n",
       "      <td>128 GB</td>\n",
       "      <td>Yes</td>\n",
       "      <td>4.4</td>\n",
       "      <td>27990</td>\n",
       "      <td>70000</td>\n",
       "      <td>LG G8X</td>\n",
       "      <td>42010</td>\n",
       "      <td>60.014286</td>\n",
       "    </tr>\n",
       "    <tr>\n",
       "      <th>572</th>\n",
       "      <td>Google Pixel</td>\n",
       "      <td>Nexus 5X</td>\n",
       "      <td>Black</td>\n",
       "      <td>2 GB</td>\n",
       "      <td>16 GB</td>\n",
       "      <td>Yes</td>\n",
       "      <td>4.5</td>\n",
       "      <td>12000</td>\n",
       "      <td>29990</td>\n",
       "      <td>Google Pixel Nexus 5X</td>\n",
       "      <td>17990</td>\n",
       "      <td>59.986662</td>\n",
       "    </tr>\n",
       "  </tbody>\n",
       "</table>\n",
       "</div>"
      ],
      "text/plain": [
       "            Brands             Models        Colors  Memory Storage Camera  \\\n",
       "908         GIONEE        Pioneer P3          White  512 MB    4 GB    Yes   \n",
       "826         GIONEE  Marathon M5 Plus     Polar Gold    3 GB   64 GB    Yes   \n",
       "306           ASUS               ROG          Black    8 GB  128 GB    Yes   \n",
       "720       Motorola           Z2 Force   Super Black    6 GB   64 GB    Yes   \n",
       "2771         Nokia               8110         Black  512 MB    4 GB    Yes   \n",
       "507             LG              Wing    Aurora Gray    8 GB  128 GB    Yes   \n",
       "2632            LG              Wing   Illusion Sky    8 GB  128 GB    Yes   \n",
       "858         GIONEE                S6           Gold    3 GB   32 GB    Yes   \n",
       "1482            LG               G8X          Black    6 GB  128 GB    Yes   \n",
       "572   Google Pixel          Nexus 5X          Black    2 GB   16 GB    Yes   \n",
       "\n",
       "      Rating  Selling Price  Original Price                    Mobile  \\\n",
       "908      3.6           2350            7996        GIONEE Pioneer P3    \n",
       "826      4.1           8499           28099  GIONEE Marathon M5 Plus    \n",
       "306      4.3          26499           83999                 ASUS ROG    \n",
       "720      4.1          14999           44999         Motorola Z2 Force   \n",
       "2771     3.7           3000            8400                Nokia 8110   \n",
       "507      4.2          29999           80000                  LG Wing    \n",
       "2632     4.2          29999           80000                  LG Wing    \n",
       "858      3.8           7999           20924                GIONEE S6    \n",
       "1482     4.4          27990           70000                   LG G8X    \n",
       "572      4.5          12000           29990    Google Pixel Nexus 5X    \n",
       "\n",
       "      Discount  discount percentage  \n",
       "908       5646            70.610305  \n",
       "826      19600            69.753372  \n",
       "306      57500            68.453196  \n",
       "720      30000            66.668148  \n",
       "2771      5400            64.285714  \n",
       "507      50001            62.501250  \n",
       "2632     50001            62.501250  \n",
       "858      12925            61.771172  \n",
       "1482     42010            60.014286  \n",
       "572      17990            59.986662  "
      ]
     },
     "execution_count": 16,
     "metadata": {},
     "output_type": "execute_result"
    }
   ],
   "source": [
    "#Most discounted phones\n",
    "df.sort_values(by=['discount percentage'],ascending=False).head(10)"
   ]
  },
  {
   "cell_type": "code",
   "execution_count": 17,
   "id": "15472270",
   "metadata": {},
   "outputs": [
    {
     "data": {
      "text/plain": [
       "Brands\n",
       "SAMSUNG     1823227\n",
       "Apple       1134611\n",
       "OPPO         533202\n",
       "realme       471403\n",
       "Motorola     454009\n",
       "Name: Discount, dtype: int64"
      ]
     },
     "execution_count": 17,
     "metadata": {},
     "output_type": "execute_result"
    }
   ],
   "source": [
    "brand_profit=df.groupby('Brands')['Discount'].sum().sort_values(ascending=False)\n",
    "brand_profit.head()"
   ]
  },
  {
   "cell_type": "code",
   "execution_count": 18,
   "id": "51963adc",
   "metadata": {},
   "outputs": [
    {
     "name": "stdout",
     "output_type": "stream",
     "text": [
      "Mean Selling Price: 26436.625561978162\n",
      "Median Selling Price: 15000.0\n",
      "Standard Deviation of Selling Prices: 30062.064537679908\n",
      "Maximum Selling Price: 179900\n",
      "Minimum Selling Price: 1000\n",
      "Range of Selling Prices: 178900\n"
     ]
    }
   ],
   "source": [
    "import numpy as np\n",
    "\n",
    "# Convert to NumPy array\n",
    "selling_prices = df['Selling Price'].to_numpy()\n",
    "\n",
    "# Mean\n",
    "mean_price = np.mean(selling_prices)\n",
    "print(\"Mean Selling Price:\", mean_price)\n",
    "\n",
    "# Median\n",
    "median_price = np.median(selling_prices)\n",
    "print(\"Median Selling Price:\", median_price)\n",
    "\n",
    "# Standard Deviation\n",
    "std_dev_price = np.std(selling_prices)\n",
    "print(\"Standard Deviation of Selling Prices:\", std_dev_price)\n",
    "\n",
    "max_price = np.max(selling_prices)\n",
    "min_price = np.min(selling_prices)\n",
    "range_price = np.ptp(selling_prices)\n",
    "\n",
    "print(\"Maximum Selling Price:\", max_price)\n",
    "print(\"Minimum Selling Price:\", min_price)\n",
    "print(\"Range of Selling Prices:\", range_price)"
   ]
  },
  {
   "cell_type": "code",
   "execution_count": 19,
   "id": "d6e172e3",
   "metadata": {},
   "outputs": [
    {
     "data": {
      "image/png": "[encoded data removed]",
      "text/plain": [
       "<Figure size 1000x600 with 1 Axes>"
      ]
     },
     "metadata": {},
     "output_type": "display_data"
    }
   ],
   "source": [
    "import matplotlib.pyplot as plt\n",
    "\n",
    "# Group by 'Brands' and sum the 'Discount' for each brand, then sort in descending order\n",
    "brand_discount = df.groupby('Brands')['Discount'].sum().sort_values(ascending=False)\n",
    "\n",
    "# Plotting\n",
    "plt.figure(figsize=(10, 6))                      \n",
    "plt.bar(brand_discount.index, brand_discount.values, color='orange')  \n",
    "plt.title('Total Discount by Brand')              \n",
    "plt.xlabel('Brands')                             \n",
    "plt.ylabel('Total Discount (in INR)')            \n",
    "plt.grid(axis='y', linestyle='--', alpha=0.7)\n",
    "plt.tight_layout()                                \n",
    "\n",
    "# Show the chart\n",
    "plt.show()"
   ]
  },
  {
   "cell_type": "code",
   "execution_count": 20,
   "id": "7681fda4",
   "metadata": {},
   "outputs": [
    {
     "data": {
      "image/png": "[encoded data removed]",
      "text/plain": [
       "<Figure size 1000x600 with 1 Axes>"
      ]
     },
     "metadata": {},
     "output_type": "display_data"
    }
   ],
   "source": [
    "avg_discount_pct = df.groupby('Brands')['discount percentage'].mean().sort_values(ascending=False)\n",
    "\n",
    "# Plotting\n",
    "plt.figure(figsize=(10, 6))\n",
    "plt.bar(avg_discount_pct.index, avg_discount_pct.values, color='teal')\n",
    "plt.title('Average Discount Percentage by Brand')\n",
    "plt.xlabel('Brands')\n",
    "plt.ylabel('Average Discount (%)')\n",
    "plt.grid(axis='y', linestyle='--', alpha=0.7)\n",
    "plt.tight_layout()\n",
    "plt.show()"
   ]
  },
  {
   "cell_type": "code",
   "execution_count": 21,
   "id": "d77fa47c",
   "metadata": {},
   "outputs": [
    {
     "data": {
      "image/png": "[encoded data removed]",
      "text/plain": [
       "<Figure size 1000x600 with 1 Axes>"
      ]
     },
     "metadata": {},
     "output_type": "display_data"
    }
   ],
   "source": [
    "model_count = df['Brands'].value_counts()\n",
    "plt.figure(figsize=(10, 6))\n",
    "plt.bar(model_count.index, model_count.values, color='purple')  \n",
    "plt.title('Number of Models by Brand')\n",
    "plt.xlabel('Brands')\n",
    "plt.ylabel('Number of Models')\n",
    "plt.grid(axis='y', linestyle='--', alpha=0.7)\n",
    "plt.tight_layout()\n",
    "plt.show()"
   ]
  }
 ],
 "metadata": {
  "kernelspec": {
   "display_name": "Python 3",
   "language": "python",
   "name": "python3"
  },
  "language_info": {
   "codemirror_mode": {
    "name": "ipython",
    "version": 3
   },
   "file_extension": ".py",
   "mimetype": "text/x-python",
   "name": "python",
   "nbconvert_exporter": "python",
   "pygments_lexer": "ipython3",
   "version": "3.10.11"
  }
 },
 "nbformat": 4,
 "nbformat_minor": 5
}
